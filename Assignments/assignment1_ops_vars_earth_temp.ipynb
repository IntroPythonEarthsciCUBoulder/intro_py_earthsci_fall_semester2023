{
 "cells": [
  {
   "cell_type": "markdown",
   "id": "94705b89",
   "metadata": {},
   "source": [
    "# Assignment 1: Earth's radiating temperature\n",
    "\n",
    "(YOUR NAME HERE)\n",
    "\n",
    "(TODAY'S DATE HERE)"
   ]
  },
  {
   "cell_type": "markdown",
   "id": "0d15e8cb",
   "metadata": {},
   "source": [
    "## Part 1: Earth's equilibrium radiating temperature\n",
    "\n",
    "In a Markdown cell below, present and explain (to your future self) the equation we derived in class that predicts the earth's average radiating temperature. Use $\\LaTeX$ math for the equation. Be sure to define each variable."
   ]
  },
  {
   "cell_type": "markdown",
   "id": "42ba1c23",
   "metadata": {},
   "source": [
    "(YOUR ANSWER HERE)"
   ]
  },
  {
   "cell_type": "markdown",
   "id": "0ff7e6d3",
   "metadata": {},
   "source": [
    "## Part 2: Calculating the temperature for modern earth\n",
    "\n",
    "### 2A. Equilibrium radiating temperature\n",
    "\n",
    "In a code cell(s) below, write a Python program to calculate and print out the earth's equilibrium radiating temperature. Your program should define a variable for each quantity and use operators.\n",
    "\n",
    "In a separate cell, use `%whos` to list the variables and their types, to make sure they have the correct values and types."
   ]
  },
  {
   "cell_type": "code",
   "execution_count": null,
   "id": "97d33bd5",
   "metadata": {},
   "outputs": [],
   "source": []
  },
  {
   "cell_type": "markdown",
   "id": "6fcef920",
   "metadata": {},
   "source": [
    "### 2B. Equilibrium radiating temperature\n",
    "\n",
    "Compare your result with the 20th century average **surface** temperature of 13.9 $^\\circ$C (recall that 0 Kelvin equals -273.15 $^\\circ$C). The difference represents the **greenhouse effect**: the atmospheric absorption of infrared radiation emitted from earth's surface. Calculate and print the magnitude of the greenhouse effect, in either Kelvins or degrees C.\n"
   ]
  },
  {
   "cell_type": "code",
   "execution_count": null,
   "id": "d532cd79",
   "metadata": {},
   "outputs": [],
   "source": []
  },
  {
   "cell_type": "markdown",
   "id": "68807bb3",
   "metadata": {},
   "source": [
    "## Part 3: The Faint Young Sun Problem\n",
    "\n",
    "\n"
   ]
  },
  {
   "cell_type": "code",
   "execution_count": null,
   "id": "0e89712c",
   "metadata": {},
   "outputs": [],
   "source": []
  },
  {
   "cell_type": "markdown",
   "id": "03150ddf",
   "metadata": {},
   "source": [
    "## Part 4: Radiating temperature for the inner planets"
   ]
  },
  {
   "cell_type": "code",
   "execution_count": null,
   "id": "8be8ffde",
   "metadata": {},
   "outputs": [],
   "source": []
  }
 ],
 "metadata": {
  "kernelspec": {
   "display_name": "Python 3 (ipykernel)",
   "language": "python",
   "name": "python3"
  },
  "language_info": {
   "codemirror_mode": {
    "name": "ipython",
    "version": 3
   },
   "file_extension": ".py",
   "mimetype": "text/x-python",
   "name": "python",
   "nbconvert_exporter": "python",
   "pygments_lexer": "ipython3",
   "version": "3.11.4"
  }
 },
 "nbformat": 4,
 "nbformat_minor": 5
}
