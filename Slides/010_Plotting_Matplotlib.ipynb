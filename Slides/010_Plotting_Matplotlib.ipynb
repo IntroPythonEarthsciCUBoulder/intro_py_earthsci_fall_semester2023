{
 "cells": [
  {
   "cell_type": "markdown",
   "id": "222605cd",
   "metadata": {},
   "source": [
    "# Plotting with Matplotlib\n",
    "\n",
    "**Introduction to Python Programming for Earth Scientists**\n",
    "**Session #10,  Oct 2023 **\n",
    "\n",
    "### Today's Schedule\n",
    "\n",
    "- Student presentations of python packages/functions\n",
    "- Walk through code assignment #2\n",
    "- Classwork: Review Numpy Arrays, Plotting with Matplotlib\n",
    "\n",
    "### Learning goals for Matplotlib\n",
    "\n",
    "- Learn about Matplotlib and be able to import the pyplot sub-package.\n",
    "- Know how to do line plotting basics for lists or arrays.\n",
    "- Know how to annotate a plot: add axis labels, add a title to a plot, vary the line/marker style and color.\n",
    "- Be able to create a x,y scatter plot, and know how it is different. \n",
    "- Learn how to plot multiple quantities on the same plot, and use a legend\n",
    "- Learn how to plot histograms with variable number of bins\n",
    "\n",
    "### Geoscience topics\n",
    "\n",
    "- CO2 concentration measurements at Manua Loa, Hawaii\n",
    "- Ice cores as a proxy for longterm climate evolution\n"
   ]
  },
  {
   "cell_type": "markdown",
   "id": "6f5705a7",
   "metadata": {},
   "source": [
    "## <span style=\"color: green;\">REVIEW: numpy arrays</span>"
   ]
  },
  {
   "cell_type": "markdown",
   "id": "6803817a",
   "metadata": {},
   "source": [
    "### About arrays\n",
    "\n",
    "Numpy `ndarrays` vs. Python `lists`:\n",
    "\n",
    "- A list can contain object of different types; in an ndarray, all objects have the same type (default `float`)\n",
    "\n",
    "- An `ndarray` can have multiple dimensions \n",
    "\n",
    "- When a mathematical operation is performed on one or more ndarrays. \n",
    "It is (usually) applied to *all* elements of the array at once\n"
   ]
  },
  {
   "cell_type": "markdown",
   "id": "35a9dc90",
   "metadata": {},
   "source": [
    "### Ways to create new arrays\n",
    "\n",
    "- The `array()` function turns a list into an array. Ex: `myarr = np.array([1, 3, 2])`\n",
    "\n",
    "- Functions like `zeros(), ones(),` and `empty()` create an array of given size. Ex: `myarr = np.ones(5)`\n",
    "\n",
    "- The `arange()` acts like `range()` but generates an array. Ex: `myarr = np.arange(1, 10, 2)`\n",
    "\n",
    "- The `linspace()` and `logspace()` functions also create arrays with sequences of values. Ex: `myarr = linspace(0, 100, 25) # create a sequence of 25 numbers from 0 to 100`\n",
    "\n"
   ]
  },
  {
   "cell_type": "markdown",
   "id": "34dae45e",
   "metadata": {},
   "source": [
    "## <span style=\"color: green;\">IN-CLASS PRACTICE: Length of day</span>\n",
    "\n",
    "\n",
    "From [this wonderful site](https://www.timeanddate.com/sun/usa/boulder) we learn that Boulder's days are about 15 hours long at the summer solstice and 9 hours long at the winter solstice. That's a range of 6 hours and a period of one year (by definition!). Our formula for the length of day (\"LOD\", here represented in math by the symbol $L$) is therefore:\n",
    "\n",
    "$$L = L_\\text{mean} + R \\sin(2\\pi t / P)$$\n",
    "\n",
    "where $L_\\text{mean} = 12$ hours is the mean day length, $R = 6$ hours is the annual range, $t$ is the time in days since the vernal equinox ($\\sim$March 21), and $P$ is the period in days (= 365, or really 365.25 if you want to want to be more accurate and factor in leap years)."
   ]
  },
  {
   "cell_type": "code",
   "execution_count": null,
   "id": "f1aea6da",
   "metadata": {},
   "outputs": [],
   "source": [
    "import numpy as np\n",
    "\n",
    "# make an array to represent days of the year\n",
    "\n",
    "# define variables for `period` (= 365 days), `mean_lod` (= 12 hours), \n",
    "# and `lod_range` (= 6 hours) \n",
    "\n",
    "# use `np.sin()` to calculate the length of day for each day of the year\n",
    "\n",
    "\n",
    "# get the plotting package!\n",
    "\n",
    "import matplotlib.pyplot as plt\n",
    "\n",
    "#plt.plot(NAME_OF_TIME_VARIABLE_HERE, NAME_OF_LOD_VARIABLE_HERE)\n",
    "#plt.xlabel('Time from vernal equinox (days)')\n",
    "#plt.ylabel('Length of day (hours)')"
   ]
  },
  {
   "cell_type": "markdown",
   "id": "4da5d7b8",
   "metadata": {},
   "source": [
    "## Ha! Perfect transition! what is Matplotlib?\n",
    "\n",
    "Matplotlib is a plotting library. It allows you to make plots for reports/papers from your data.\n",
    "We most often the subpackage pyplot"
   ]
  },
  {
   "cell_type": "code",
   "execution_count": 16,
   "id": "93dec454",
   "metadata": {},
   "outputs": [],
   "source": [
    "# Load the matplot lib plotting package\n",
    "\n",
    "import matplotlib.pyplot as plt\n"
   ]
  },
  {
   "cell_type": "markdown",
   "id": "50e8930c",
   "metadata": {},
   "source": [
    "### Line plots and their annotation: the Keeling curve as an example"
   ]
  },
  {
   "cell_type": "markdown",
   "id": "5d2292ca",
   "metadata": {},
   "source": [
    "CO2 concentrations in the atmosphere first started to be measured in 1958 by Dr. Keeling (Scripps Oceanography). The carbon dioxide data on Mauna Loa now constitute the longest record of direct measurements of CO2 in the atmosphere. NOAA now maintains a longterm monitoring program of sampling of CO2 across the globe.<br>\n",
    "\n",
    "Data are reported as a 'dry air mole fraction' defined as the number of molecules of carbon dioxide divided by the number of all molecules in air after water vapor has been removed. The mole fraction is expressed as parts per million (ppm). Example: 0.000400 is expressed as 400 ppm.\n",
    "\n",
    "https://gml.noaa.gov/ccgg/trends/data.html"
   ]
  },
  {
   "cell_type": "code",
   "execution_count": null,
   "id": "97f6850c",
   "metadata": {},
   "outputs": [],
   "source": [
    "# Line plot using lists\n",
    "# I downloaded this data on carbon dioxide from NOAA https://gml.noaa.gov/ccgg/trends/data.html\n",
    "\n",
    "year = [1960, 1970, 1980, 1990, 2000, 2010, 2020]\n",
    "CO2ppm = [316.91, 325.68, 338.76, 354.45, 369.71, 390.1, 414.21]\n",
    "\n",
    "print (year, CO2ppm)"
   ]
  },
  {
   "cell_type": "code",
   "execution_count": null,
   "id": "3df816ca",
   "metadata": {},
   "outputs": [],
   "source": [
    "# plot the CO2 concentration\n",
    "\n",
    "plt.plot(CO2ppm)"
   ]
  },
  {
   "cell_type": "code",
   "execution_count": null,
   "id": "dadf5ed9",
   "metadata": {},
   "outputs": [],
   "source": [
    "# so that shows just the list array indexes on the x-axis and the list values on the y-axis\n"
   ]
  },
  {
   "cell_type": "code",
   "execution_count": null,
   "id": "69289032",
   "metadata": {},
   "outputs": [],
   "source": [
    "# plot the CO2 over time (specific list for x, and specific list for y)\n",
    "\n",
    "plt.plot(year, CO2ppm)\n",
    "\n",
    "plt.ylabel('CO2 in ppm')\n",
    "plt.xlabel('year')\n"
   ]
  },
  {
   "cell_type": "code",
   "execution_count": null,
   "id": "26f7aa8c",
   "metadata": {},
   "outputs": [],
   "source": [
    "# Annotate the plot with title and add when points were measured\n",
    "\n",
    "# to show were data points are....\n",
    "plt.plot(year,CO2ppm,'-o')\n",
    "\n",
    "plt.ylabel('CO2 in ppm')\n",
    "plt.xlabel('year')\n",
    "plt.title('decadal CO2 concentration at Manua Loa Observatory, Hawaii ')"
   ]
  },
  {
   "cell_type": "code",
   "execution_count": null,
   "id": "f822dcdd",
   "metadata": {},
   "outputs": [],
   "source": [
    "# here is an arbitrary example \n",
    "# evenly sampled time at 200m intervals\n",
    "t = np.arange(0., 5., 0.2)\n",
    "\n",
    "# red dashes, blue squares and green triangles\n",
    "plt.plot(t, t, 'r--', t, t**2, 'bs', t, t**3, 'g^')\n",
    "plt.show()"
   ]
  },
  {
   "cell_type": "markdown",
   "id": "f17b65b8",
   "metadata": {},
   "source": [
    "### Scatter Plots"
   ]
  },
  {
   "cell_type": "code",
   "execution_count": null,
   "id": "67392491",
   "metadata": {},
   "outputs": [],
   "source": [
    "# Here we load a more detailed time series of the CO2 concentration from file into an array\n",
    "\n",
    "import numpy as np\n",
    "    \n",
    "# here I use numpy functions loadtxt(), we'll learn more about this in the next class\n",
    "# it creates an array with data\n",
    "\n",
    "arr = np.loadtxt(\"C02_ManuaLoa.csv\", delimiter = \",\")\n",
    "\n",
    "# what's in this array?\n",
    "print(len(arr))\n",
    "print(arr[0],arr[-1] )\n"
   ]
  },
  {
   "cell_type": "code",
   "execution_count": null,
   "id": "8bcea37b",
   "metadata": {},
   "outputs": [],
   "source": [
    "# I will use the scatter plot, it prints x versus y as single data points. \n",
    "# Scatter plots give a better idea of how many data points were used to establish the plot.\n",
    "\n",
    "plt.scatter(arr[:,0],arr[:,1])\n",
    "plt.ylabel('CO2 in ppm')\n",
    "plt.xlabel('year')\n",
    "plt.title('yearly CO2 concentration at Manua Loa Observatory, Hawaii ')\n",
    "plt.show()"
   ]
  },
  {
   "cell_type": "markdown",
   "id": "aa9462c6",
   "metadata": {},
   "source": [
    "### <span style=\"color: green;\">IN-CLASS PRACTICE</span>"
   ]
  },
  {
   "cell_type": "code",
   "execution_count": null,
   "id": "164e80f1",
   "metadata": {},
   "outputs": [],
   "source": [
    "# use the help(plt.scatter) to find out what you can change in scatter plots\n",
    "\n"
   ]
  },
  {
   "cell_type": "code",
   "execution_count": null,
   "id": "7783b8c0",
   "metadata": {},
   "outputs": [],
   "source": [
    "# Using the example codes above, change the Keeling curve plot\n",
    "\n",
    "# create a subset array of the years 2000 - 2022\n",
    "\n",
    "\n",
    "\n",
    "# Challenge: plot a scatter plot of just 2000-2022\n",
    "# change the markers to show green triangles\n",
    "\n"
   ]
  },
  {
   "cell_type": "code",
   "execution_count": null,
   "id": "453a35ce",
   "metadata": {},
   "outputs": [],
   "source": [
    "# Print what was the CO2 concentration in 2000 and 2022? \n",
    "# How much is the difference over those 23 years?\n",
    "# Create an array with linspace() that is a linear function of CO2 concentration increase that starts at 2000 and 2022\n",
    "# Plot this data into the same plot with a line \n"
   ]
  },
  {
   "cell_type": "markdown",
   "id": "a489c9d9",
   "metadata": {},
   "source": [
    "###  Histograms"
   ]
  },
  {
   "cell_type": "code",
   "execution_count": 17,
   "id": "dd913a3c",
   "metadata": {},
   "outputs": [
    {
     "data": {
      "text/plain": [
       "(array([16.,  3.,  3.,  0.,  1.,  0.,  0.,  0.,  0.,  3.]),\n",
       " array([0.01 , 0.051, 0.092, 0.133, 0.174, 0.215, 0.256, 0.297, 0.338,\n",
       "        0.379, 0.42 ]),\n",
       " <BarContainer object of 10 artists>)"
      ]
     },
     "execution_count": 17,
     "metadata": {},
     "output_type": "execute_result"
    },
    {
     "data": {
      "image/png": "[encoded data removed]",
      "text/plain": [
       "<Figure size 640x480 with 1 Axes>"
      ]
     },
     "metadata": {},
     "output_type": "display_data"
    }
   ],
   "source": [
    "# here is an arbitrary dataset\n",
    "\n",
    "mylist= [0.1, 0.01, 0.4, 0.03, 0.05, 0.03, 0.06, 0.02, 0.01, 0.42, 0.02, 0.05, 0.1, 0.02, 0.055, 0.2, 0.03, 0.05, 0.06, 0.02, 0.01, 0.42, 0.02, 0.05, 0.1, 0.02 ]\n",
    "\n",
    "# let's see how it is distributed\n",
    "\n",
    "plt.hist(mylist)"
   ]
  },
  {
   "cell_type": "code",
   "execution_count": 22,
   "id": "aa6da89a",
   "metadata": {},
   "outputs": [
    {
     "data": {
      "text/plain": [
       "(array([16., 19., 22., 22., 23., 23., 23., 23., 23., 26.]),\n",
       " array([0.01 , 0.051, 0.092, 0.133, 0.174, 0.215, 0.256, 0.297, 0.338,\n",
       "        0.379, 0.42 ]),\n",
       " <BarContainer object of 10 artists>)"
      ]
     },
     "execution_count": 22,
     "metadata": {},
     "output_type": "execute_result"
    },
    {
     "data": {
      "image/png": "[encoded data removed]",
      "text/plain": [
       "<Figure size 640x480 with 1 Axes>"
      ]
     },
     "metadata": {},
     "output_type": "display_data"
    }
   ],
   "source": [
    "# you can also plot the cumulative distribution\n",
    "plt.hist(mylist, cumulative=1)\n",
    "\n",
    "# or reverse\n",
    "#plt.hist(mylist, cumulative=-1)"
   ]
  },
  {
   "cell_type": "markdown",
   "id": "0dab5aef",
   "metadata": {},
   "source": [
    "## <span style=\"color: purple;\">Motivating Problem</span>\n",
    "\n",
    "### <span style=\"color: purple;\">Ice Cores as Climate Data Records</span>"
   ]
  },
  {
   "cell_type": "markdown",
   "id": "87fa14a5",
   "metadata": {},
   "source": [
    "Modern-day observations can show how greenhouse gasses have been changing over the last few decades. But how do we know whether this is unusual over Earth's climate history?\n",
    "\n",
    "This is where the accumulation zone of glaciers comes in handy - if there is no melt in the upper regions of a glacier, it keeps accumulating layers of annual snow fall in those areas. This is even more so the case for ice-sheets that have a dome shape and flow most rapidly in the lower regions.\n",
    "\n",
    "Clues to past climates can be revealed by drilling into glaciers and ice sheets. The extracted ice cylinders, sometimes taken from several kilometers below the surface, show evidence of atmospheric composition, volcanic eruptions, dust storms, even wind patterns.\n",
    "\n",
    "Since the 1960's scientists have been collecting ice cores from Greenland, Antarctica and mountain glaciers. \n",
    "The cores are preserved as 1 m long segments, investigated for gas contents, water chemistry and isotopes, dust traces, etc and then put in freezer storage. \n",
    "\n",
    "In 1993, after five years of drilling, the Greenland 'GISP2' project penetrated through the ice sheet and 1.55 meters into bedrock, recovering an ice core of 3053 meters depth.\n",
    "\n",
    "Here we will take a first look at the data of one of the segments of this core. \n",
    "One of the important analysis that is done for an ice core is counting of the annual layers of ice, each year leaves a distinct layer (even if these layers get compressed over time).\n",
    "\n",
    "The data is available here:\n",
    "https://icecores.org/inventory/gisp2"
   ]
  },
  {
   "cell_type": "markdown",
   "id": "c9dd265f",
   "metadata": {},
   "source": [
    "### <span style=\"color: green;\">IN-CLASS PRACTICE</span>"
   ]
  },
  {
   "cell_type": "code",
   "execution_count": 2,
   "id": "7ce9a37f",
   "metadata": {},
   "outputs": [],
   "source": [
    "# load a pre-processed txt file \n",
    "\n",
    "import  numpy as np\n",
    "import matplotlib.pyplot as plt\n",
    "LT = np.loadtxt(\"greenland_gisp2_LT.txt\")\n",
    "\n",
    "# what's in this array? \n",
    "# Find out what is the length of this array and print it's first and last value.\n",
    "# What is the mean of the arry values and what is the maximum? \n",
    "\n"
   ]
  },
  {
   "cell_type": "code",
   "execution_count": 5,
   "id": "6753fa84",
   "metadata": {},
   "outputs": [
    {
     "ename": "NameError",
     "evalue": "name 'plt' is not defined",
     "output_type": "error",
     "traceback": [
      "\u001b[0;31m---------------------------------------------------------------------------\u001b[0m",
      "\u001b[0;31mNameError\u001b[0m                                 Traceback (most recent call last)",
      "Cell \u001b[0;32mIn[5], line 1\u001b[0m\n\u001b[0;32m----> 1\u001b[0m \u001b[43mplt\u001b[49m\u001b[38;5;241m.\u001b[39mhist(LT, \u001b[38;5;241m20\u001b[39m)\n\u001b[1;32m      2\u001b[0m plt\u001b[38;5;241m.\u001b[39mxlabel(\u001b[38;5;124m'\u001b[39m\u001b[38;5;124mice layer thickness\u001b[39m\u001b[38;5;124m'\u001b[39m)\n\u001b[1;32m      3\u001b[0m plt\u001b[38;5;241m.\u001b[39mylabel(\u001b[38;5;124m'\u001b[39m\u001b[38;5;124moccurrence\u001b[39m\u001b[38;5;124m'\u001b[39m)\n",
      "\u001b[0;31mNameError\u001b[0m: name 'plt' is not defined"
     ]
    }
   ],
   "source": [
    "# plot a histogram of the ice core layer thickness with 20 bins\n",
    "# label the x and y-axis\n",
    "# add a title\n"
   ]
  },
  {
   "cell_type": "code",
   "execution_count": 28,
   "id": "9edf3f90",
   "metadata": {},
   "outputs": [
    {
     "data": {
      "text/plain": [
       "[<matplotlib.lines.Line2D at 0x7fd14a104940>]"
      ]
     },
     "execution_count": 28,
     "metadata": {},
     "output_type": "execute_result"
    },
    {
     "data": {
      "image/png": "[encoded data removed]",
      "text/plain": [
       "<Figure size 640x480 with 1 Axes>"
      ]
     },
     "metadata": {},
     "output_type": "display_data"
    }
   ],
   "source": [
    "# plot all data as single data points\n",
    "\n",
    "\n",
    "# what is are two main observations if you see the thicknesses over the entire core segment?\n",
    "\n"
   ]
  },
  {
   "cell_type": "code",
   "execution_count": 24,
   "id": "d8d0904f",
   "metadata": {},
   "outputs": [
    {
     "name": "stdout",
     "output_type": "stream",
     "text": [
      "Help on function hist in module matplotlib.pyplot:\n",
      "\n",
      "hist(x, bins=None, range=None, density=False, weights=None, cumulative=False, bottom=None, histtype='bar', align='mid', orientation='vertical', rwidth=None, log=False, color=None, label=None, stacked=False, *, data=None, **kwargs)\n",
      "    Compute and plot a histogram.\n",
      "    \n",
      "    This method uses `numpy.histogram` to bin the data in *x* and count the\n",
      "    number of values in each bin, then draws the distribution either as a\n",
      "    `.BarContainer` or `.Polygon`. The *bins*, *range*, *density*, and\n",
      "    *weights* parameters are forwarded to `numpy.histogram`.\n",
      "    \n",
      "    If the data has already been binned and counted, use `~.bar` or\n",
      "    `~.stairs` to plot the distribution::\n",
      "    \n",
      "        counts, bins = np.histogram(x)\n",
      "        plt.stairs(counts, bins)\n",
      "    \n",
      "    Alternatively, plot pre-computed bins and counts using ``hist()`` by\n",
      "    treating each bin as a single point with a weight equal to its count::\n",
      "    \n",
      "        plt.hist(bins[:-1], bins, weights=counts)\n",
      "    \n",
      "    The data input *x* can be a singular array, a list of datasets of\n",
      "    potentially different lengths ([*x0*, *x1*, ...]), or a 2D ndarray in\n",
      "    which each column is a dataset. Note that the ndarray form is\n",
      "    transposed relative to the list form. If the input is an array, then\n",
      "    the return value is a tuple (*n*, *bins*, *patches*); if the input is a\n",
      "    sequence of arrays, then the return value is a tuple\n",
      "    ([*n0*, *n1*, ...], *bins*, [*patches0*, *patches1*, ...]).\n",
      "    \n",
      "    Masked arrays are not supported.\n",
      "    \n",
      "    Parameters\n",
      "    ----------\n",
      "    x : (n,) array or sequence of (n,) arrays\n",
      "        Input values, this takes either a single array or a sequence of\n",
      "        arrays which are not required to be of the same length.\n",
      "    \n",
      "    bins : int or sequence or str, default: :rc:`hist.bins`\n",
      "        If *bins* is an integer, it defines the number of equal-width bins\n",
      "        in the range.\n",
      "    \n",
      "        If *bins* is a sequence, it defines the bin edges, including the\n",
      "        left edge of the first bin and the right edge of the last bin;\n",
      "        in this case, bins may be unequally spaced.  All but the last\n",
      "        (righthand-most) bin is half-open.  In other words, if *bins* is::\n",
      "    \n",
      "            [1, 2, 3, 4]\n",
      "    \n",
      "        then the first bin is ``[1, 2)`` (including 1, but excluding 2) and\n",
      "        the second ``[2, 3)``.  The last bin, however, is ``[3, 4]``, which\n",
      "        *includes* 4.\n",
      "    \n",
      "        If *bins* is a string, it is one of the binning strategies\n",
      "        supported by `numpy.histogram_bin_edges`: 'auto', 'fd', 'doane',\n",
      "        'scott', 'stone', 'rice', 'sturges', or 'sqrt'.\n",
      "    \n",
      "    range : tuple or None, default: None\n",
      "        The lower and upper range of the bins. Lower and upper outliers\n",
      "        are ignored. If not provided, *range* is ``(x.min(), x.max())``.\n",
      "        Range has no effect if *bins* is a sequence.\n",
      "    \n",
      "        If *bins* is a sequence or *range* is specified, autoscaling\n",
      "        is based on the specified bin range instead of the\n",
      "        range of x.\n",
      "    \n",
      "    density : bool, default: False\n",
      "        If ``True``, draw and return a probability density: each bin\n",
      "        will display the bin's raw count divided by the total number of\n",
      "        counts *and the bin width*\n",
      "        (``density = counts / (sum(counts) * np.diff(bins))``),\n",
      "        so that the area under the histogram integrates to 1\n",
      "        (``np.sum(density * np.diff(bins)) == 1``).\n",
      "    \n",
      "        If *stacked* is also ``True``, the sum of the histograms is\n",
      "        normalized to 1.\n",
      "    \n",
      "    weights : (n,) array-like or None, default: None\n",
      "        An array of weights, of the same shape as *x*.  Each value in\n",
      "        *x* only contributes its associated weight towards the bin count\n",
      "        (instead of 1).  If *density* is ``True``, the weights are\n",
      "        normalized, so that the integral of the density over the range\n",
      "        remains 1.\n",
      "    \n",
      "    cumulative : bool or -1, default: False\n",
      "        If ``True``, then a histogram is computed where each bin gives the\n",
      "        counts in that bin plus all bins for smaller values. The last bin\n",
      "        gives the total number of datapoints.\n",
      "    \n",
      "        If *density* is also ``True`` then the histogram is normalized such\n",
      "        that the last bin equals 1.\n",
      "    \n",
      "        If *cumulative* is a number less than 0 (e.g., -1), the direction\n",
      "        of accumulation is reversed.  In this case, if *density* is also\n",
      "        ``True``, then the histogram is normalized such that the first bin\n",
      "        equals 1.\n",
      "    \n",
      "    bottom : array-like, scalar, or None, default: None\n",
      "        Location of the bottom of each bin, i.e. bins are drawn from\n",
      "        ``bottom`` to ``bottom + hist(x, bins)`` If a scalar, the bottom\n",
      "        of each bin is shifted by the same amount. If an array, each bin\n",
      "        is shifted independently and the length of bottom must match the\n",
      "        number of bins. If None, defaults to 0.\n",
      "    \n",
      "    histtype : {'bar', 'barstacked', 'step', 'stepfilled'}, default: 'bar'\n",
      "        The type of histogram to draw.\n",
      "    \n",
      "        - 'bar' is a traditional bar-type histogram.  If multiple data\n",
      "          are given the bars are arranged side by side.\n",
      "        - 'barstacked' is a bar-type histogram where multiple\n",
      "          data are stacked on top of each other.\n",
      "        - 'step' generates a lineplot that is by default unfilled.\n",
      "        - 'stepfilled' generates a lineplot that is by default filled.\n",
      "    \n",
      "    align : {'left', 'mid', 'right'}, default: 'mid'\n",
      "        The horizontal alignment of the histogram bars.\n",
      "    \n",
      "        - 'left': bars are centered on the left bin edges.\n",
      "        - 'mid': bars are centered between the bin edges.\n",
      "        - 'right': bars are centered on the right bin edges.\n",
      "    \n",
      "    orientation : {'vertical', 'horizontal'}, default: 'vertical'\n",
      "        If 'horizontal', `~.Axes.barh` will be used for bar-type histograms\n",
      "        and the *bottom* kwarg will be the left edges.\n",
      "    \n",
      "    rwidth : float or None, default: None\n",
      "        The relative width of the bars as a fraction of the bin width.  If\n",
      "        ``None``, automatically compute the width.\n",
      "    \n",
      "        Ignored if *histtype* is 'step' or 'stepfilled'.\n",
      "    \n",
      "    log : bool, default: False\n",
      "        If ``True``, the histogram axis will be set to a log scale.\n",
      "    \n",
      "    color : color or array-like of colors or None, default: None\n",
      "        Color or sequence of colors, one per dataset.  Default (``None``)\n",
      "        uses the standard line color sequence.\n",
      "    \n",
      "    label : str or None, default: None\n",
      "        String, or sequence of strings to match multiple datasets.  Bar\n",
      "        charts yield multiple patches per dataset, but only the first gets\n",
      "        the label, so that `~.Axes.legend` will work as expected.\n",
      "    \n",
      "    stacked : bool, default: False\n",
      "        If ``True``, multiple data are stacked on top of each other If\n",
      "        ``False`` multiple data are arranged side by side if histtype is\n",
      "        'bar' or on top of each other if histtype is 'step'\n",
      "    \n",
      "    Returns\n",
      "    -------\n",
      "    n : array or list of arrays\n",
      "        The values of the histogram bins. See *density* and *weights* for a\n",
      "        description of the possible semantics.  If input *x* is an array,\n",
      "        then this is an array of length *nbins*. If input is a sequence of\n",
      "        arrays ``[data1, data2, ...]``, then this is a list of arrays with\n",
      "        the values of the histograms for each of the arrays in the same\n",
      "        order.  The dtype of the array *n* (or of its element arrays) will\n",
      "        always be float even if no weighting or normalization is used.\n",
      "    \n",
      "    bins : array\n",
      "        The edges of the bins. Length nbins + 1 (nbins left edges and right\n",
      "        edge of last bin).  Always a single array even when multiple data\n",
      "        sets are passed in.\n",
      "    \n",
      "    patches : `.BarContainer` or list of a single `.Polygon` or list of such objects\n",
      "        Container of individual artists used to create the histogram\n",
      "        or list of such containers if there are multiple input datasets.\n",
      "    \n",
      "    Other Parameters\n",
      "    ----------------\n",
      "    data : indexable object, optional\n",
      "        If given, the following parameters also accept a string ``s``, which is\n",
      "        interpreted as ``data[s]`` (unless this raises an exception):\n",
      "    \n",
      "        *x*, *weights*\n",
      "    \n",
      "    **kwargs\n",
      "        `~matplotlib.patches.Patch` properties\n",
      "    \n",
      "    See Also\n",
      "    --------\n",
      "    hist2d : 2D histogram with rectangular bins\n",
      "    hexbin : 2D histogram with hexagonal bins\n",
      "    \n",
      "    Notes\n",
      "    -----\n",
      "    For large numbers of bins (>1000), plotting can be significantly faster\n",
      "    if *histtype* is set to 'step' or 'stepfilled' rather than 'bar' or\n",
      "    'barstacked'.\n",
      "\n"
     ]
    }
   ],
   "source": [
    "# construct a new array that creates a depth record, based on the thickness data\n",
    "\n",
    "# plot the layer thickness as a function of depth\n"
   ]
  },
  {
   "cell_type": "markdown",
   "id": "95e1b2b5",
   "metadata": {},
   "source": [
    "### documentation on matplotlib\n",
    "\n",
    "https://matplotlib.org/stable/"
   ]
  },
  {
   "cell_type": "code",
   "execution_count": null,
   "id": "dd27bbc7",
   "metadata": {},
   "outputs": [],
   "source": []
  }
 ],
 "metadata": {
  "kernelspec": {
   "display_name": "Python 3 (ipykernel)",
   "language": "python",
   "name": "python3"
  },
  "language_info": {
   "codemirror_mode": {
    "name": "ipython",
    "version": 3
   },
   "file_extension": ".py",
   "mimetype": "text/x-python",
   "name": "python",
   "nbconvert_exporter": "python",
   "pygments_lexer": "ipython3",
   "version": "3.10.9"
  }
 },
 "nbformat": 4,
 "nbformat_minor": 5
}
